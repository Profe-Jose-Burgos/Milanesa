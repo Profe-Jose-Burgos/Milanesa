{
  "cells": [
    {
      "cell_type": "code",
      "execution_count": 107,
      "metadata": {
        "colab": {
          "base_uri": "https://localhost:8080/"
        },
        "id": "lOlzUlWbgP3Q",
        "outputId": "4216177f-81ec-42dc-b0ae-05805f9cdbd9"
      },
      "outputs": [
        {
          "output_type": "stream",
          "name": "stdout",
          "text": [
            "Looking in indexes: https://pypi.org/simple, https://us-python.pkg.dev/colab-wheels/public/simple/\n",
            "Requirement already satisfied: pyTelegramBotAPI in /usr/local/lib/python3.8/dist-packages (4.9.0)\n",
            "Requirement already satisfied: requests in /usr/local/lib/python3.8/dist-packages (from pyTelegramBotAPI) (2.25.1)\n",
            "Requirement already satisfied: urllib3<1.27,>=1.21.1 in /usr/local/lib/python3.8/dist-packages (from requests->pyTelegramBotAPI) (1.24.3)\n",
            "Requirement already satisfied: chardet<5,>=3.0.2 in /usr/local/lib/python3.8/dist-packages (from requests->pyTelegramBotAPI) (4.0.0)\n",
            "Requirement already satisfied: idna<3,>=2.5 in /usr/local/lib/python3.8/dist-packages (from requests->pyTelegramBotAPI) (2.10)\n",
            "Requirement already satisfied: certifi>=2017.4.17 in /usr/local/lib/python3.8/dist-packages (from requests->pyTelegramBotAPI) (2022.12.7)\n"
          ]
        }
      ],
      "source": [
        "!pip install pyTelegramBotAPI"
      ]
    },
    {
      "cell_type": "code",
      "execution_count": 108,
      "metadata": {
        "id": "mu_D_yHGfFvx"
      },
      "outputs": [],
      "source": [
        "\n",
        "envios = { \"saludo\":\"Hola, soy chatbot! gracias por comunicarse con nosotros. ¿En que te puedo ayuda?\",\n",
        "          # avances \n",
        "          \n",
        "           \"acerca\":\"Nuestra compañía ofrece el servicio de envíos internacionales haciendo posible que sus documentos, paquetes y mercancías lleguen a más de 220 países y territorios en los 5 continentes,\\n\"\n",
        "                    \"prestándole adicionalmente el servicio de asesoría que le permita hacer más fácil el proceso de su envío.\"\n",
        "                    \"Mediante este chat podrás saber toda la información que necesites o te permitiremos contactar alguno de nuestros agentes de la empresa.\",\n",
        "          \n",
        "          \"Recibo\":\"Contamos con infraestructuras propias y sistematizadas en todos nuestros puntos de recibo, garantizando confiabilidad, seguridad y asesoría especializada.\"\n",
        "                    \"Nuestro servicio de recogidas y entregas de lunes a sábado a domicilio, con frecuencia de vuelo diaria para sus exportaciones. \"\n",
        "                    \"Recogemos sin costo adicional en el territorio nacional.\",\n",
        "          \n",
        "          \"Envio\":\"-El máximo valor declarado para exportaciones de tráfico postal y envíos urgentes es de USD 5.000. Para exportación tradicional máximo valor declarado debe ser menor a U$ 50.000 *para mayor valor llamar a asesoría.\\n\"\n",
        "                    \"-El máximo Peso/Volumen permitido es 70 kilogramos (por unidad de empaque).\\n\"\n",
        "                    \"-Los cargos por el peso dimensional de los envíos se determinan de acuerdo a las normas estándar de volumen vigentes de la Asociación de Transporte Aéreo (IATA), las cuales están sujetas a cambio sin previo aviso.\\n\"\n",
        "                    \"-No se hacen entregas a Apartados de Correos, P.O Box y/o apartados aéreos. Es necesario indicar una dirección física correcta.\\n\"\n",
        "                    \"-ESTA PROHIBIDO EL ENVÍO DE:\\n\" \n",
        "                    \"-Animales \\n\"\n",
        "                    \"-Armas de fuego, municiones, explosivos\\n\"\n",
        "                    \"-Artículos ilegales\\n\",\n",
        "          \n",
        "          \"Nece\":\"Todos nuestros envíos necesitan estos documentos: guía aérea, rótulo o etiqueta, factura comercial, carta de responsabilidad y documentos requeridos por el país destino.\",\n",
        "\n",
        "          \"Tarifa\":\"Imagen\",#aqui va una imagen \n",
        "\n",
        "          \"Cita\": \"Para mayor información contacar algunos de nuestro agentes llamando al:\" \n",
        "                  \"253-0000 o 254-0000\",\n",
        "          \"Despedida\": \"Le agradecemos por usar nuestro servicios. si tiene alguna duda adicional puede escribirnos con total confianza fue un placer serviles !!hasta la próxima¡¡\",\n",
        "          }\n",
        "\n",
        "                "
      ]
    },
    {
      "cell_type": "code",
      "execution_count": 112,
      "metadata": {
        "id": "pvdW_43eLd2P"
      },
      "outputs": [],
      "source": [
        "\n",
        "# Prueba de funcionalidad \n",
        "import re\n",
        "import random\n",
        "\n",
        "\n",
        "def unknown():\n",
        "    response = ['Disculpa no te estoy entendiendo', 'Puedes repetirlo otra vez']\n",
        "    return response[random.randrange(2)]\n",
        "\n",
        "def get_response(txt):\n",
        "    split_message = re.split(r'\\s|[:;.?!-_]\\s*f',txt.lower())\n",
        "    response = check_all_message(split_message)\n",
        "    return response\n",
        "\n",
        "def message_probability(user_msn, recognized_word, single_response=False,required_word = []):\n",
        "    message_certainly = 0\n",
        "    has_required_word = True\n",
        "    print(f'user msn {user_msn}')\n",
        "    for word in user_msn:\n",
        "        if word in recognized_word:\n",
        "            message_certainly+=1\n",
        "    percentage = float(message_certainly)/float(len(recognized_word))\n",
        "    for word in required_word:\n",
        "        if word not in user_msn:\n",
        "            has_required_word = False\n",
        "            break\n",
        "    if has_required_word or single_response:\n",
        "        return float(percentage * 100)\n",
        "    else:\n",
        "        return 0\n",
        "\n",
        "\n",
        "def check_all_message(txt):\n",
        "    \n",
        "    highest_prob = {}    \n",
        "    \n",
        "    def response(bot_response,list_of_words,single_response = False,required_words = []):\n",
        "        nonlocal highest_prob\n",
        "        highest_prob[bot_response]= message_probability(txt,list_of_words,single_response,required_words)\n",
        "    \n",
        "    #arreglar error \n",
        "    v_response = ['estoy','muy','bien']\n",
        "                \n",
        "    response(envios[\"saludo\"],[\"hola\",\"buenas\",\"hi\",\"hello\"],single_response=True)\n",
        "    response(envios[\"acerca\"],[\"esta\",\"que\",\"servicios\",\"servicio\",\"ofrece\",\"esta\",\"empresa\"],required_words=[\"servicio\"])\n",
        "    response(envios[\"Recibo\"],[\"me\",\"puede\",\"dar\",\"informacion\",\"sobre\",\"las\",\"entregas\",\"recibo\",\"costo\"],required_words=[\"entregas\"])\n",
        "    response(envios[\"Nece\"],[\"que\",\"documento\",\"necesito\",\"documentacion\",\"regla\",\"una\",\"consulta\"],required_words=[\"documentos\"])\n",
        "    response(envios[\"Despedida\"],[\"muchas\", \"Gracias\" , \"Thank you\" ,\" les\",\"agradesco\",\"Adios\" ,\"bye\"],required_words=[\"adios\"])\n",
        "    response(envios[\"Envio\"],[\"informacion\",\"sobre\",\"los\",\"envios\",\"envio\"],required_words=[\"informacion\"])\n",
        "\n",
        "    response('¡Excelente! ¿ Que deseas ?',v_response,required_words=['estoy'])\n",
        "\n",
        "\n",
        "     #response(envios[\"saludos\"],v_response,required_words=[\"hi\",\"hola\",])\n",
        "\n",
        "\n",
        "\n",
        "    \n",
        "    best_match = max(highest_prob,key=highest_prob.get)\n",
        "    print(highest_prob)\n",
        "    #\n",
        "    return unknown() if highest_prob[best_match] < 1 else best_match\n",
        "    \n"
      ]
    },
    {
      "cell_type": "code",
      "execution_count": 110,
      "metadata": {
        "id": "nEqAHXj3gBpw"
      },
      "outputs": [],
      "source": [
        "import telebot \n",
        "token = \"5851734942:AAGfKcGcHpunyOBPhT2WBzz7JUB-Rp0YidM\" \n",
        "BOT_TOKEN = token \n",
        "bot = telebot.TeleBot(BOT_TOKEN)\n",
        "\n",
        "\n",
        "\n",
        "@bot.message_handler(commands=['start', 'help'])\n",
        "def send_welcome(message):\n",
        "\tbot.reply_to(message, \"Howdy, how are you doing?\")\n",
        "\n",
        "@bot.message_handler(func=lambda m: True)\n",
        "def echo_all(message):\n",
        "    response = get_response(message.text)\n",
        "    bot.reply_to(message, response)\n",
        "    print(message)\n",
        "   \n",
        "   \n"
      ]
    },
    {
      "cell_type": "code",
      "execution_count": 111,
      "metadata": {
        "colab": {
          "base_uri": "https://localhost:8080/"
        },
        "id": "lwqCvw4Eg3sU",
        "outputId": "47b26e7c-4949-411a-b374-47248d2d3a17"
      },
      "outputs": [
        {
          "output_type": "stream",
          "name": "stdout",
          "text": [
            "user msn ['hola']\n",
            "user msn ['hola']\n",
            "user msn ['hola']\n",
            "user msn ['hola']\n",
            "user msn ['hola']\n",
            "user msn ['hola']\n",
            "user msn ['hola']\n",
            "{'Hola, soy chatbot! gracias por comunicarse con nosotros. ¿En que te puedo ayuda?': 25.0, 'Nuestra compañía ofrece el servicio de envíos internacionales haciendo posible que sus documentos, paquetes y mercancías lleguen a más de 220 países y territorios en los 5 continentes,\\nprestándole adicionalmente el servicio de asesoría que le permita hacer más fácil el proceso de su envío.Mediante este chat podrás saber toda la información que necesites o te permitiremos contactar alguno de nuestros agentes de la empresa.': 0, 'Contamos con infraestructuras propias y sistematizadas en todos nuestros puntos de recibo, garantizando confiabilidad, seguridad y asesoría especializada.Nuestro servicio de recogidas y entregas de lunes a sábado a domicilio, con frecuencia de vuelo diaria para sus exportaciones. Recogemos sin costo adicional en el territorio nacional.': 0, 'Todos nuestros envíos necesitan estos documentos: guía aérea, rótulo o etiqueta, factura comercial, carta de responsabilidad y documentos requeridos por el país destino.': 0, 'Le agradecemos por usar nuestro servicios. si tiene alguna duda adicional puede escribirnos con total confianza fue un placer serviles !!hasta\\xa0la\\xa0próxima¡¡': 0, '-El máximo valor declarado para exportaciones de tráfico postal y envíos urgentes es de USD 5.000. Para exportación tradicional máximo valor declarado debe ser menor a U$ 50.000 *para mayor valor llamar a asesoría.\\n-El máximo Peso/Volumen permitido es 70 kilogramos (por unidad de empaque).\\n-Los cargos por el peso dimensional de los envíos se determinan de acuerdo a las normas estándar de volumen vigentes de la Asociación de Transporte Aéreo (IATA), las cuales están sujetas a cambio sin previo aviso.\\n-No se hacen entregas a Apartados de Correos, P.O Box y/o apartados aéreos. Es necesario indicar una dirección física correcta.\\n-ESTA PROHIBIDO EL ENVÍO DE:\\n-Animales \\n-Armas de fuego, municiones, explosivos\\n-Artículos ilegales\\n': 0, '¡Excelente! ¿ Que deseas ?': 0}\n",
            "{'content_type': 'text', 'id': 418, 'message_id': 418, 'from_user': {'id': 5791351246, 'is_bot': False, 'first_name': 'Milagros', 'username': None, 'last_name': 'Alonzo', 'language_code': 'es', 'can_join_groups': None, 'can_read_all_group_messages': None, 'supports_inline_queries': None, 'is_premium': None, 'added_to_attachment_menu': None}, 'date': 1674607650, 'chat': {'id': 5791351246, 'type': 'private', 'title': None, 'username': None, 'first_name': 'Milagros', 'last_name': 'Alonzo', 'is_forum': None, 'photo': None, 'bio': None, 'join_to_send_messages': None, 'join_by_request': None, 'has_private_forwards': None, 'has_restricted_voice_and_video_messages': None, 'description': None, 'invite_link': None, 'pinned_message': None, 'permissions': None, 'slow_mode_delay': None, 'message_auto_delete_time': None, 'has_protected_content': None, 'sticker_set_name': None, 'can_set_sticker_set': None, 'linked_chat_id': None, 'location': None, 'active_usernames': None, 'emoji_status_custom_emoji_id': None, 'has_hidden_members': None, 'has_aggressive_anti_spam_enabled': None}, 'sender_chat': None, 'forward_from': None, 'forward_from_chat': None, 'forward_from_message_id': None, 'forward_signature': None, 'forward_sender_name': None, 'forward_date': None, 'is_automatic_forward': None, 'reply_to_message': None, 'via_bot': None, 'edit_date': None, 'has_protected_content': None, 'media_group_id': None, 'author_signature': None, 'text': 'Hola', 'entities': None, 'caption_entities': None, 'audio': None, 'document': None, 'photo': None, 'sticker': None, 'video': None, 'video_note': None, 'voice': None, 'caption': None, 'contact': None, 'location': None, 'venue': None, 'animation': None, 'dice': None, 'new_chat_member': None, 'new_chat_members': None, 'left_chat_member': None, 'new_chat_title': None, 'new_chat_photo': None, 'delete_chat_photo': None, 'group_chat_created': None, 'supergroup_chat_created': None, 'channel_chat_created': None, 'migrate_to_chat_id': None, 'migrate_from_chat_id': None, 'pinned_message': None, 'invoice': None, 'successful_payment': None, 'connected_website': None, 'reply_markup': None, 'message_thread_id': None, 'is_topic_message': None, 'forum_topic_created': None, 'forum_topic_closed': None, 'forum_topic_reopened': None, 'has_media_spoiler': None, 'forum_topic_edited': None, 'general_forum_topic_hidden': None, 'general_forum_topic_unhidden': None, 'write_access_allowed': None, 'json': {'message_id': 418, 'from': {'id': 5791351246, 'is_bot': False, 'first_name': 'Milagros', 'last_name': 'Alonzo', 'language_code': 'es'}, 'chat': {'id': 5791351246, 'first_name': 'Milagros', 'last_name': 'Alonzo', 'type': 'private'}, 'date': 1674607650, 'text': 'Hola'}}\n",
            "user msn ['información', 'sobre', 'los', 'envíos']\n",
            "user msn ['información', 'sobre', 'los', 'envíos']\n",
            "user msn ['información', 'sobre', 'los', 'envíos']\n",
            "user msn ['información', 'sobre', 'los', 'envíos']\n",
            "user msn ['información', 'sobre', 'los', 'envíos']\n",
            "user msn ['información', 'sobre', 'los', 'envíos']\n",
            "user msn ['información', 'sobre', 'los', 'envíos']\n",
            "{'Hola, soy chatbot! gracias por comunicarse con nosotros. ¿En que te puedo ayuda?': 0.0, 'Nuestra compañía ofrece el servicio de envíos internacionales haciendo posible que sus documentos, paquetes y mercancías lleguen a más de 220 países y territorios en los 5 continentes,\\nprestándole adicionalmente el servicio de asesoría que le permita hacer más fácil el proceso de su envío.Mediante este chat podrás saber toda la información que necesites o te permitiremos contactar alguno de nuestros agentes de la empresa.': 0, 'Contamos con infraestructuras propias y sistematizadas en todos nuestros puntos de recibo, garantizando confiabilidad, seguridad y asesoría especializada.Nuestro servicio de recogidas y entregas de lunes a sábado a domicilio, con frecuencia de vuelo diaria para sus exportaciones. Recogemos sin costo adicional en el territorio nacional.': 0, 'Todos nuestros envíos necesitan estos documentos: guía aérea, rótulo o etiqueta, factura comercial, carta de responsabilidad y documentos requeridos por el país destino.': 0, 'Le agradecemos por usar nuestro servicios. si tiene alguna duda adicional puede escribirnos con total confianza fue un placer serviles !!hasta\\xa0la\\xa0próxima¡¡': 0, '-El máximo valor declarado para exportaciones de tráfico postal y envíos urgentes es de USD 5.000. Para exportación tradicional máximo valor declarado debe ser menor a U$ 50.000 *para mayor valor llamar a asesoría.\\n-El máximo Peso/Volumen permitido es 70 kilogramos (por unidad de empaque).\\n-Los cargos por el peso dimensional de los envíos se determinan de acuerdo a las normas estándar de volumen vigentes de la Asociación de Transporte Aéreo (IATA), las cuales están sujetas a cambio sin previo aviso.\\n-No se hacen entregas a Apartados de Correos, P.O Box y/o apartados aéreos. Es necesario indicar una dirección física correcta.\\n-ESTA PROHIBIDO EL ENVÍO DE:\\n-Animales \\n-Armas de fuego, municiones, explosivos\\n-Artículos ilegales\\n': 0, '¡Excelente! ¿ Que deseas ?': 0}\n",
            "{'content_type': 'text', 'id': 420, 'message_id': 420, 'from_user': {'id': 5791351246, 'is_bot': False, 'first_name': 'Milagros', 'username': None, 'last_name': 'Alonzo', 'language_code': 'es', 'can_join_groups': None, 'can_read_all_group_messages': None, 'supports_inline_queries': None, 'is_premium': None, 'added_to_attachment_menu': None}, 'date': 1674607682, 'chat': {'id': 5791351246, 'type': 'private', 'title': None, 'username': None, 'first_name': 'Milagros', 'last_name': 'Alonzo', 'is_forum': None, 'photo': None, 'bio': None, 'join_to_send_messages': None, 'join_by_request': None, 'has_private_forwards': None, 'has_restricted_voice_and_video_messages': None, 'description': None, 'invite_link': None, 'pinned_message': None, 'permissions': None, 'slow_mode_delay': None, 'message_auto_delete_time': None, 'has_protected_content': None, 'sticker_set_name': None, 'can_set_sticker_set': None, 'linked_chat_id': None, 'location': None, 'active_usernames': None, 'emoji_status_custom_emoji_id': None, 'has_hidden_members': None, 'has_aggressive_anti_spam_enabled': None}, 'sender_chat': None, 'forward_from': None, 'forward_from_chat': None, 'forward_from_message_id': None, 'forward_signature': None, 'forward_sender_name': None, 'forward_date': None, 'is_automatic_forward': None, 'reply_to_message': None, 'via_bot': None, 'edit_date': None, 'has_protected_content': None, 'media_group_id': None, 'author_signature': None, 'text': 'Información sobre los envíos', 'entities': None, 'caption_entities': None, 'audio': None, 'document': None, 'photo': None, 'sticker': None, 'video': None, 'video_note': None, 'voice': None, 'caption': None, 'contact': None, 'location': None, 'venue': None, 'animation': None, 'dice': None, 'new_chat_member': None, 'new_chat_members': None, 'left_chat_member': None, 'new_chat_title': None, 'new_chat_photo': None, 'delete_chat_photo': None, 'group_chat_created': None, 'supergroup_chat_created': None, 'channel_chat_created': None, 'migrate_to_chat_id': None, 'migrate_from_chat_id': None, 'pinned_message': None, 'invoice': None, 'successful_payment': None, 'connected_website': None, 'reply_markup': None, 'message_thread_id': None, 'is_topic_message': None, 'forum_topic_created': None, 'forum_topic_closed': None, 'forum_topic_reopened': None, 'has_media_spoiler': None, 'forum_topic_edited': None, 'general_forum_topic_hidden': None, 'general_forum_topic_unhidden': None, 'write_access_allowed': None, 'json': {'message_id': 420, 'from': {'id': 5791351246, 'is_bot': False, 'first_name': 'Milagros', 'last_name': 'Alonzo', 'language_code': 'es'}, 'chat': {'id': 5791351246, 'first_name': 'Milagros', 'last_name': 'Alonzo', 'type': 'private'}, 'date': 1674607682, 'text': 'Información sobre los envíos'}}\n",
            "user msn ['informacion', 'sobre', 'los', 'envíos']\n",
            "user msn ['informacion', 'sobre', 'los', 'envíos']\n",
            "user msn ['informacion', 'sobre', 'los', 'envíos']\n",
            "user msn ['informacion', 'sobre', 'los', 'envíos']\n",
            "user msn ['informacion', 'sobre', 'los', 'envíos']\n",
            "user msn ['informacion', 'sobre', 'los', 'envíos']\n",
            "user msn ['informacion', 'sobre', 'los', 'envíos']\n",
            "{'Hola, soy chatbot! gracias por comunicarse con nosotros. ¿En que te puedo ayuda?': 0.0, 'Nuestra compañía ofrece el servicio de envíos internacionales haciendo posible que sus documentos, paquetes y mercancías lleguen a más de 220 países y territorios en los 5 continentes,\\nprestándole adicionalmente el servicio de asesoría que le permita hacer más fácil el proceso de su envío.Mediante este chat podrás saber toda la información que necesites o te permitiremos contactar alguno de nuestros agentes de la empresa.': 0, 'Contamos con infraestructuras propias y sistematizadas en todos nuestros puntos de recibo, garantizando confiabilidad, seguridad y asesoría especializada.Nuestro servicio de recogidas y entregas de lunes a sábado a domicilio, con frecuencia de vuelo diaria para sus exportaciones. Recogemos sin costo adicional en el territorio nacional.': 0, 'Todos nuestros envíos necesitan estos documentos: guía aérea, rótulo o etiqueta, factura comercial, carta de responsabilidad y documentos requeridos por el país destino.': 0, 'Le agradecemos por usar nuestro servicios. si tiene alguna duda adicional puede escribirnos con total confianza fue un placer serviles !!hasta\\xa0la\\xa0próxima¡¡': 0, '-El máximo valor declarado para exportaciones de tráfico postal y envíos urgentes es de USD 5.000. Para exportación tradicional máximo valor declarado debe ser menor a U$ 50.000 *para mayor valor llamar a asesoría.\\n-El máximo Peso/Volumen permitido es 70 kilogramos (por unidad de empaque).\\n-Los cargos por el peso dimensional de los envíos se determinan de acuerdo a las normas estándar de volumen vigentes de la Asociación de Transporte Aéreo (IATA), las cuales están sujetas a cambio sin previo aviso.\\n-No se hacen entregas a Apartados de Correos, P.O Box y/o apartados aéreos. Es necesario indicar una dirección física correcta.\\n-ESTA PROHIBIDO EL ENVÍO DE:\\n-Animales \\n-Armas de fuego, municiones, explosivos\\n-Artículos ilegales\\n': 60.0, '¡Excelente! ¿ Que deseas ?': 0}\n",
            "{'content_type': 'text', 'id': 422, 'message_id': 422, 'from_user': {'id': 5791351246, 'is_bot': False, 'first_name': 'Milagros', 'username': None, 'last_name': 'Alonzo', 'language_code': 'es', 'can_join_groups': None, 'can_read_all_group_messages': None, 'supports_inline_queries': None, 'is_premium': None, 'added_to_attachment_menu': None}, 'date': 1674607701, 'chat': {'id': 5791351246, 'type': 'private', 'title': None, 'username': None, 'first_name': 'Milagros', 'last_name': 'Alonzo', 'is_forum': None, 'photo': None, 'bio': None, 'join_to_send_messages': None, 'join_by_request': None, 'has_private_forwards': None, 'has_restricted_voice_and_video_messages': None, 'description': None, 'invite_link': None, 'pinned_message': None, 'permissions': None, 'slow_mode_delay': None, 'message_auto_delete_time': None, 'has_protected_content': None, 'sticker_set_name': None, 'can_set_sticker_set': None, 'linked_chat_id': None, 'location': None, 'active_usernames': None, 'emoji_status_custom_emoji_id': None, 'has_hidden_members': None, 'has_aggressive_anti_spam_enabled': None}, 'sender_chat': None, 'forward_from': None, 'forward_from_chat': None, 'forward_from_message_id': None, 'forward_signature': None, 'forward_sender_name': None, 'forward_date': None, 'is_automatic_forward': None, 'reply_to_message': None, 'via_bot': None, 'edit_date': None, 'has_protected_content': None, 'media_group_id': None, 'author_signature': None, 'text': 'Informacion sobre los envíos', 'entities': None, 'caption_entities': None, 'audio': None, 'document': None, 'photo': None, 'sticker': None, 'video': None, 'video_note': None, 'voice': None, 'caption': None, 'contact': None, 'location': None, 'venue': None, 'animation': None, 'dice': None, 'new_chat_member': None, 'new_chat_members': None, 'left_chat_member': None, 'new_chat_title': None, 'new_chat_photo': None, 'delete_chat_photo': None, 'group_chat_created': None, 'supergroup_chat_created': None, 'channel_chat_created': None, 'migrate_to_chat_id': None, 'migrate_from_chat_id': None, 'pinned_message': None, 'invoice': None, 'successful_payment': None, 'connected_website': None, 'reply_markup': None, 'message_thread_id': None, 'is_topic_message': None, 'forum_topic_created': None, 'forum_topic_closed': None, 'forum_topic_reopened': None, 'has_media_spoiler': None, 'forum_topic_edited': None, 'general_forum_topic_hidden': None, 'general_forum_topic_unhidden': None, 'write_access_allowed': None, 'json': {'message_id': 422, 'from': {'id': 5791351246, 'is_bot': False, 'first_name': 'Milagros', 'last_name': 'Alonzo', 'language_code': 'es'}, 'chat': {'id': 5791351246, 'first_name': 'Milagros', 'last_name': 'Alonzo', 'type': 'private'}, 'date': 1674607701, 'text': 'Informacion sobre los envíos'}}\n"
          ]
        },
        {
          "output_type": "stream",
          "name": "stderr",
          "text": [
            "2023-01-25 00:51:09,630 (__init__.py:966 MainThread) ERROR - TeleBot: \"Infinity polling: polling exited\"\n",
            "ERROR:TeleBot:Infinity polling: polling exited\n",
            "2023-01-25 00:51:09,634 (__init__.py:968 MainThread) ERROR - TeleBot: \"Break infinity polling\"\n",
            "ERROR:TeleBot:Break infinity polling\n"
          ]
        }
      ],
      "source": [
        "bot.infinity_polling()"
      ]
    },
    {
      "cell_type": "code",
      "execution_count": 111,
      "metadata": {
        "id": "ySpjZQTLoD7w"
      },
      "outputs": [],
      "source": []
    },
    {
      "cell_type": "code",
      "execution_count": 111,
      "metadata": {
        "id": "lFIvvsSPg4pk"
      },
      "outputs": [],
      "source": []
    }
  ],
  "metadata": {
    "colab": {
      "provenance": []
    },
    "kernelspec": {
      "display_name": "Python 3",
      "name": "python3"
    },
    "language_info": {
      "name": "python"
    }
  },
  "nbformat": 4,
  "nbformat_minor": 0
}