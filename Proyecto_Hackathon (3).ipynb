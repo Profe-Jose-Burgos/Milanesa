{
  "cells": [
    {
      "cell_type": "code",
      "execution_count": 22,
      "metadata": {
        "colab": {
          "base_uri": "https://localhost:8080/"
        },
        "id": "lOlzUlWbgP3Q",
        "outputId": "00066c2b-d8f5-41ef-b4d0-ebc983586517"
      },
      "outputs": [
        {
          "output_type": "stream",
          "name": "stdout",
          "text": [
            "Looking in indexes: https://pypi.org/simple, https://us-python.pkg.dev/colab-wheels/public/simple/\n",
            "Requirement already satisfied: pyTelegramBotAPI in /usr/local/lib/python3.8/dist-packages (4.9.0)\n",
            "Requirement already satisfied: requests in /usr/local/lib/python3.8/dist-packages (from pyTelegramBotAPI) (2.25.1)\n",
            "Requirement already satisfied: idna<3,>=2.5 in /usr/local/lib/python3.8/dist-packages (from requests->pyTelegramBotAPI) (2.10)\n",
            "Requirement already satisfied: certifi>=2017.4.17 in /usr/local/lib/python3.8/dist-packages (from requests->pyTelegramBotAPI) (2022.12.7)\n",
            "Requirement already satisfied: chardet<5,>=3.0.2 in /usr/local/lib/python3.8/dist-packages (from requests->pyTelegramBotAPI) (4.0.0)\n",
            "Requirement already satisfied: urllib3<1.27,>=1.21.1 in /usr/local/lib/python3.8/dist-packages (from requests->pyTelegramBotAPI) (1.24.3)\n"
          ]
        }
      ],
      "source": [
        "\n",
        "# Extencion para conectar a telegram\n",
        "!pip install pyTelegramBotAPI\n"
      ]
    },
    {
      "cell_type": "code",
      "source": [
        "# Extencion para poder mostrar imagenes como respuestas \n",
        "!pip install humingbird"
      ],
      "metadata": {
        "colab": {
          "base_uri": "https://localhost:8080/"
        },
        "id": "n3Wjd4zTsAtR",
        "outputId": "823a852f-b281-4522-bcbc-2b7bf0ccecf6"
      },
      "execution_count": 23,
      "outputs": [
        {
          "output_type": "stream",
          "name": "stdout",
          "text": [
            "Looking in indexes: https://pypi.org/simple, https://us-python.pkg.dev/colab-wheels/public/simple/\n",
            "Requirement already satisfied: humingbird in /usr/local/lib/python3.8/dist-packages (0.5.1)\n",
            "Requirement already satisfied: transformers>=4.19.2 in /usr/local/lib/python3.8/dist-packages (from humingbird) (4.26.0)\n",
            "Requirement already satisfied: Pillow>=7.1 in /usr/local/lib/python3.8/dist-packages (from humingbird) (7.1.2)\n",
            "Requirement already satisfied: torch>=1.11.0 in /usr/local/lib/python3.8/dist-packages (from humingbird) (1.13.1+cu116)\n",
            "Requirement already satisfied: typing-extensions in /usr/local/lib/python3.8/dist-packages (from torch>=1.11.0->humingbird) (4.4.0)\n",
            "Requirement already satisfied: filelock in /usr/local/lib/python3.8/dist-packages (from transformers>=4.19.2->humingbird) (3.9.0)\n",
            "Requirement already satisfied: huggingface-hub<1.0,>=0.11.0 in /usr/local/lib/python3.8/dist-packages (from transformers>=4.19.2->humingbird) (0.12.0)\n",
            "Requirement already satisfied: pyyaml>=5.1 in /usr/local/lib/python3.8/dist-packages (from transformers>=4.19.2->humingbird) (6.0)\n",
            "Requirement already satisfied: tokenizers!=0.11.3,<0.14,>=0.11.1 in /usr/local/lib/python3.8/dist-packages (from transformers>=4.19.2->humingbird) (0.13.2)\n",
            "Requirement already satisfied: numpy>=1.17 in /usr/local/lib/python3.8/dist-packages (from transformers>=4.19.2->humingbird) (1.21.6)\n",
            "Requirement already satisfied: packaging>=20.0 in /usr/local/lib/python3.8/dist-packages (from transformers>=4.19.2->humingbird) (21.3)\n",
            "Requirement already satisfied: requests in /usr/local/lib/python3.8/dist-packages (from transformers>=4.19.2->humingbird) (2.25.1)\n",
            "Requirement already satisfied: regex!=2019.12.17 in /usr/local/lib/python3.8/dist-packages (from transformers>=4.19.2->humingbird) (2022.6.2)\n",
            "Requirement already satisfied: tqdm>=4.27 in /usr/local/lib/python3.8/dist-packages (from transformers>=4.19.2->humingbird) (4.64.1)\n",
            "Requirement already satisfied: pyparsing!=3.0.5,>=2.0.2 in /usr/local/lib/python3.8/dist-packages (from packaging>=20.0->transformers>=4.19.2->humingbird) (3.0.9)\n",
            "Requirement already satisfied: certifi>=2017.4.17 in /usr/local/lib/python3.8/dist-packages (from requests->transformers>=4.19.2->humingbird) (2022.12.7)\n",
            "Requirement already satisfied: chardet<5,>=3.0.2 in /usr/local/lib/python3.8/dist-packages (from requests->transformers>=4.19.2->humingbird) (4.0.0)\n",
            "Requirement already satisfied: urllib3<1.27,>=1.21.1 in /usr/local/lib/python3.8/dist-packages (from requests->transformers>=4.19.2->humingbird) (1.24.3)\n",
            "Requirement already satisfied: idna<3,>=2.5 in /usr/local/lib/python3.8/dist-packages (from requests->transformers>=4.19.2->humingbird) (2.10)\n"
          ]
        }
      ]
    },
    {
      "cell_type": "code",
      "execution_count": 24,
      "metadata": {
        "id": "mu_D_yHGfFvx"
      },
      "outputs": [],
      "source": [
        "\n",
        "# Utilizamos diccionaios para guardar las respuestas \n",
        "#estos son los mensajes que se enviaran al usuario\n",
        "\n",
        "envios = { \"saludo\":\"Hola, soy un asistente de SIC! gracias por comunicarse con nosotros. ¿En que te puedo ayudar?\",\n",
        "          # avances \n",
        "          \n",
        "           \"acerca\":\"Nuestra compañía ofrece el servicio de envíos internacionales haciendo posible que sus documentos, paquetes y mercancías lleguen a más de 220 países y territorios en los 5 continentes,\\n\"\n",
        "                    \"prestándole adicionalmente el servicio de asesoría que le permita hacer más fácil el proceso de su envío.\"\n",
        "                    \"Mediante este chat podrás saber toda la información que necesites o te permitiremos contactar alguno de nuestros agentes de la empresa.\",\n",
        "          \n",
        "          \"Recibo\":\"Contamos con infraestructuras propias y sistematizadas en todos nuestros puntos de recibo, garantizando confiabilidad, seguridad y asesoría especializada.\"\n",
        "                    \"Nuestro servicio de recogidas y entregas de lunes a sábado a domicilio, con frecuencia de vuelo diaria para sus exportaciones. \"\n",
        "                    \"Recogemos sin costo adicional en el territorio nacional.\",\n",
        "          \n",
        "          \"Envio\":\"-El máximo valor declarado para exportaciones de tráfico postal y envíos urgentes es de USD 5.000. Para exportación tradicional máximo valor declarado debe ser menor a U$ 50.000 *para mayor valor llamar a asesoría.\\n\"\n",
        "                    \"-El máximo Peso/Volumen permitido es 70 kilogramos (por unidad de empaque).\\n\"\n",
        "                    \"-Los cargos por el peso dimensional de los envíos se determinan de acuerdo a las normas estándar de volumen vigentes de la Asociación de Transporte Aéreo (IATA), las cuales están sujetas a cambio sin previo aviso.\\n\"\n",
        "                    \"-No se hacen entregas a Apartados de Correos, P.O Box y/o apartados aéreos. Es necesario indicar una dirección física correcta.\\n\"\n",
        "                    \"-ESTA PROHIBIDO EL ENVÍO DE:\\n\" \n",
        "                    \"-Animales \\n\"\n",
        "                    \"-Armas de fuego, municiones, explosivos\\n\"\n",
        "                    \"-Artículos ilegales\\n\",\n",
        "          \n",
        "          \"Nece\":\"Todos nuestros envíos necesitan estos documentos: guía aérea, rótulo o etiqueta, factura comercial, carta de responsabilidad y documentos requeridos por el país destino.\",\n",
        "\n",
        "          \"Tarifa\":\"Imagen\",#aqui va una imagen \n",
        "\n",
        "          \"Cita\": \"Para mayor información contacar algunos de nuestro agentes llamando al:\" \n",
        "                  \"253-0000 o 254-0000\",\n",
        "          \"Despedida\": \"Le agradecemos por usar nuestro servicios. si tiene alguna duda adicional puede escribirnos con total confianza fue un placer serviles !!hasta la próxima¡¡\",\n",
        "          }\n",
        "\n",
        "imagenes_costo= {\n",
        "    \"costos\":[\" /content/drive/MyDrive/Imagen de WhatsApp 2023-01-24 a las 10.35.10.jpg\"]\n",
        "}\n",
        "                "
      ]
    },
    {
      "cell_type": "code",
      "execution_count": 25,
      "metadata": {
        "id": "pvdW_43eLd2P"
      },
      "outputs": [],
      "source": [
        "\n",
        "# Prueba de funcionalidad \n",
        "#Este algoritmo nos permite recibir preguntas del usuario, entender la intencion de la pregunta y enviar una respuesta \n",
        "#NO CONTIENE MACHINE LEARNING \n",
        "# importamos las librerias de re y ramdom para...\n",
        "\n",
        "import re\n",
        "import random\n",
        "import humingbird\n",
        "\n",
        "# # cramos una funcion donde retorne las exepciones cuando la probabilidad sea menor a 1\n",
        "def unknown():\n",
        "    response = ['Disculpa no te estoy entendiendo', 'Puedes repetirlo otra vez']\n",
        "    return response[random.randrange(2)]\n",
        "\n",
        "#creamos otra funcion donde revisamos el texto\n",
        "def get_response(txt):\n",
        "    split_message = re.split(r'\\s|[:;.?!-_]\\s*f',txt.lower())\n",
        "    response = check_all_message(split_message)\n",
        "    return response\n",
        "\n",
        "\n",
        "# En esta funcion calculamos la probabilidad de respustas segun el texto\n",
        "def message_probability(user_msn, recognized_word, single_response=False,required_word = []):\n",
        "    message_certainly = 0\n",
        "    has_required_word = True\n",
        "    print(f'user msn {user_msn}')\n",
        "\n",
        "\n",
        "    #empezamos a a iterar sumando las palabras reconocidas y vamos sumando 1 \n",
        "    for word in user_msn:\n",
        "        if word in recognized_word:\n",
        "            message_certainly+=1\n",
        "      # por aqui calculamos la seguridad segun la probabilidad del mensaje      \n",
        "    percentage = float(message_certainly)/float(len(recognized_word))\n",
        "    for word in required_word:\n",
        "        if word not in user_msn:\n",
        "            has_required_word = False\n",
        "            break\n",
        "    if has_required_word or single_response:\n",
        "        return float(percentage * 100)\n",
        "    else:\n",
        "        return 0\n",
        "\n",
        "#Funcion en donde revisamos todo los mensajes de todas las posibles respuetas \n",
        "def check_all_message(txt):\n",
        "    \n",
        "    highest_prob = {}    \n",
        "    \n",
        "    def response(bot_response,list_of_words,single_response = False,required_words = []):\n",
        "        nonlocal highest_prob\n",
        "        highest_prob[bot_response]= message_probability(txt,list_of_words,single_response,required_words)\n",
        "    \n",
        "    #arreglar error \n",
        "\n",
        "    #Por aca estan las reglas que para poder imprimir las respuetas correcta \n",
        "    v_response = ['estoy','muy','bien']\n",
        "                \n",
        "    response(envios[\"saludo\"],[\"hola\",\"buenas\",\"hi\",\"hello\"],single_response=True)\n",
        "    response(envios[\"acerca\"],[\"esta\",\"que\",\"servicios\",\"servicio\",\"ofrece\",\"esta\",\"empresa\"],required_words=[\"servicios\"])\n",
        "    response(envios[\"Recibo\"],[\"me\",\"puede\",\"dar\",\"informacion\",\"sobre\",\"las\",\"entregas\",\"recibo\",\"costo\"],required_words=[\"entregas\"])\n",
        "    response(envios[\"Nece\"],[\"que\",\"documento\",\"necesito\",\"documentacion\",\"regla\",\"una\",\"consulta\"],required_words=[\"documentos\"])\n",
        "    response(envios[\"Despedida\"],[\"muchas\", \"Gracias\" , \"Thank you\" ,\" les\",\"agradesco\",\"Adios\" ,\"bye\"],single_response=True)\n",
        "    response(envios[\"Envio\"],[\"informacion\",\"sobre\",\"los\",\"envios\",\"envio\"],required_words=[\"información\"])\n",
        "    response('¡Excelente! ¿ Que deseas ?',v_response,required_words=['estoy'])\n",
        "\n",
        "\n",
        "     #response(envios[\"saludos\"],v_response,required_words=[\"hi\",\"hola\",])\n",
        "\n",
        "\n",
        "\n",
        "    #segun el mayor indice de probabilidad imprimira la respuesta\n",
        "    best_match = max(highest_prob,key=highest_prob.get)\n",
        "    print(highest_prob)\n",
        "    # si en tal caso no se encunetra contesto de la pregunta el chatbot retoranara a la funcion unknown\n",
        "    return unknown() if highest_prob[best_match] < 1 else best_match\n",
        "    \n"
      ]
    },
    {
      "cell_type": "code",
      "execution_count": 26,
      "metadata": {
        "id": "nEqAHXj3gBpw"
      },
      "outputs": [],
      "source": [
        "#codigo para la coneccion con telegram\n",
        "\n",
        "import telebot \n",
        "token = \"5851734942:AAGfKcGcHpunyOBPhT2WBzz7JUB-Rp0YidM\" \n",
        "BOT_TOKEN = token \n",
        "bot = telebot.TeleBot(BOT_TOKEN)\n",
        "\n",
        "\n",
        "\n",
        "@bot.message_handler(commands=['start', 'help'])\n",
        "def send_welcome(message):\n",
        "\tbot.reply_to(message, \"Howdy, how are you doing?\")\n",
        "\n",
        "@bot.message_handler(func=lambda m: True)\n",
        "def echo_all(message):\n",
        "    response = get_response(message.text)\n",
        "    bot.reply_to(message, response)\n",
        "    print(message)\n",
        "   \n",
        "   \n"
      ]
    },
    {
      "cell_type": "code",
      "execution_count": null,
      "metadata": {
        "colab": {
          "base_uri": "https://localhost:8080/"
        },
        "id": "lwqCvw4Eg3sU",
        "outputId": "fbfd9552-c2eb-48d8-8f00-aa843ec52ca3"
      },
      "outputs": [
        {
          "output_type": "stream",
          "name": "stdout",
          "text": [
            "user msn ['hola']\n",
            "user msn ['hola']\n",
            "user msn ['hola']\n",
            "user msn ['hola']\n",
            "user msn ['hola']\n",
            "user msn ['hola']\n",
            "user msn ['hola']\n",
            "{'Hola, soy un asistente de SIC! gracias por comunicarse con nosotros. ¿En que te puedo ayudar?': 25.0, 'Nuestra compañía ofrece el servicio de envíos internacionales haciendo posible que sus documentos, paquetes y mercancías lleguen a más de 220 países y territorios en los 5 continentes,\\nprestándole adicionalmente el servicio de asesoría que le permita hacer más fácil el proceso de su envío.Mediante este chat podrás saber toda la información que necesites o te permitiremos contactar alguno de nuestros agentes de la empresa.': 0, 'Contamos con infraestructuras propias y sistematizadas en todos nuestros puntos de recibo, garantizando confiabilidad, seguridad y asesoría especializada.Nuestro servicio de recogidas y entregas de lunes a sábado a domicilio, con frecuencia de vuelo diaria para sus exportaciones. Recogemos sin costo adicional en el territorio nacional.': 0, 'Todos nuestros envíos necesitan estos documentos: guía aérea, rótulo o etiqueta, factura comercial, carta de responsabilidad y documentos requeridos por el país destino.': 0, 'Le agradecemos por usar nuestro servicios. si tiene alguna duda adicional puede escribirnos con total confianza fue un placer serviles !!hasta\\xa0la\\xa0próxima¡¡': 0.0, '-El máximo valor declarado para exportaciones de tráfico postal y envíos urgentes es de USD 5.000. Para exportación tradicional máximo valor declarado debe ser menor a U$ 50.000 *para mayor valor llamar a asesoría.\\n-El máximo Peso/Volumen permitido es 70 kilogramos (por unidad de empaque).\\n-Los cargos por el peso dimensional de los envíos se determinan de acuerdo a las normas estándar de volumen vigentes de la Asociación de Transporte Aéreo (IATA), las cuales están sujetas a cambio sin previo aviso.\\n-No se hacen entregas a Apartados de Correos, P.O Box y/o apartados aéreos. Es necesario indicar una dirección física correcta.\\n-ESTA PROHIBIDO EL ENVÍO DE:\\n-Animales \\n-Armas de fuego, municiones, explosivos\\n-Artículos ilegales\\n': 0, '¡Excelente! ¿ Que deseas ?': 0}\n",
            "{'content_type': 'text', 'id': 435, 'message_id': 435, 'from_user': {'id': 5791351246, 'is_bot': False, 'first_name': 'Milagros', 'username': None, 'last_name': 'Alonzo', 'language_code': 'es', 'can_join_groups': None, 'can_read_all_group_messages': None, 'supports_inline_queries': None, 'is_premium': None, 'added_to_attachment_menu': None}, 'date': 1674665887, 'chat': {'id': 5791351246, 'type': 'private', 'title': None, 'username': None, 'first_name': 'Milagros', 'last_name': 'Alonzo', 'is_forum': None, 'photo': None, 'bio': None, 'join_to_send_messages': None, 'join_by_request': None, 'has_private_forwards': None, 'has_restricted_voice_and_video_messages': None, 'description': None, 'invite_link': None, 'pinned_message': None, 'permissions': None, 'slow_mode_delay': None, 'message_auto_delete_time': None, 'has_protected_content': None, 'sticker_set_name': None, 'can_set_sticker_set': None, 'linked_chat_id': None, 'location': None, 'active_usernames': None, 'emoji_status_custom_emoji_id': None, 'has_hidden_members': None, 'has_aggressive_anti_spam_enabled': None}, 'sender_chat': None, 'forward_from': None, 'forward_from_chat': None, 'forward_from_message_id': None, 'forward_signature': None, 'forward_sender_name': None, 'forward_date': None, 'is_automatic_forward': None, 'reply_to_message': None, 'via_bot': None, 'edit_date': None, 'has_protected_content': None, 'media_group_id': None, 'author_signature': None, 'text': 'Hola', 'entities': None, 'caption_entities': None, 'audio': None, 'document': None, 'photo': None, 'sticker': None, 'video': None, 'video_note': None, 'voice': None, 'caption': None, 'contact': None, 'location': None, 'venue': None, 'animation': None, 'dice': None, 'new_chat_member': None, 'new_chat_members': None, 'left_chat_member': None, 'new_chat_title': None, 'new_chat_photo': None, 'delete_chat_photo': None, 'group_chat_created': None, 'supergroup_chat_created': None, 'channel_chat_created': None, 'migrate_to_chat_id': None, 'migrate_from_chat_id': None, 'pinned_message': None, 'invoice': None, 'successful_payment': None, 'connected_website': None, 'reply_markup': None, 'message_thread_id': None, 'is_topic_message': None, 'forum_topic_created': None, 'forum_topic_closed': None, 'forum_topic_reopened': None, 'has_media_spoiler': None, 'forum_topic_edited': None, 'general_forum_topic_hidden': None, 'general_forum_topic_unhidden': None, 'write_access_allowed': None, 'json': {'message_id': 435, 'from': {'id': 5791351246, 'is_bot': False, 'first_name': 'Milagros', 'last_name': 'Alonzo', 'language_code': 'es'}, 'chat': {'id': 5791351246, 'first_name': 'Milagros', 'last_name': 'Alonzo', 'type': 'private'}, 'date': 1674665887, 'text': 'Hola'}}\n",
            "user msn ['informacion', 'sobre', 'los', 'envíos']\n",
            "user msn ['informacion', 'sobre', 'los', 'envíos']\n",
            "user msn ['informacion', 'sobre', 'los', 'envíos']\n",
            "user msn ['informacion', 'sobre', 'los', 'envíos']\n",
            "user msn ['informacion', 'sobre', 'los', 'envíos']\n",
            "user msn ['informacion', 'sobre', 'los', 'envíos']\n",
            "user msn ['informacion', 'sobre', 'los', 'envíos']\n",
            "{'Hola, soy un asistente de SIC! gracias por comunicarse con nosotros. ¿En que te puedo ayudar?': 0.0, 'Nuestra compañía ofrece el servicio de envíos internacionales haciendo posible que sus documentos, paquetes y mercancías lleguen a más de 220 países y territorios en los 5 continentes,\\nprestándole adicionalmente el servicio de asesoría que le permita hacer más fácil el proceso de su envío.Mediante este chat podrás saber toda la información que necesites o te permitiremos contactar alguno de nuestros agentes de la empresa.': 0, 'Contamos con infraestructuras propias y sistematizadas en todos nuestros puntos de recibo, garantizando confiabilidad, seguridad y asesoría especializada.Nuestro servicio de recogidas y entregas de lunes a sábado a domicilio, con frecuencia de vuelo diaria para sus exportaciones. Recogemos sin costo adicional en el territorio nacional.': 0, 'Todos nuestros envíos necesitan estos documentos: guía aérea, rótulo o etiqueta, factura comercial, carta de responsabilidad y documentos requeridos por el país destino.': 0, 'Le agradecemos por usar nuestro servicios. si tiene alguna duda adicional puede escribirnos con total confianza fue un placer serviles !!hasta\\xa0la\\xa0próxima¡¡': 0.0, '-El máximo valor declarado para exportaciones de tráfico postal y envíos urgentes es de USD 5.000. Para exportación tradicional máximo valor declarado debe ser menor a U$ 50.000 *para mayor valor llamar a asesoría.\\n-El máximo Peso/Volumen permitido es 70 kilogramos (por unidad de empaque).\\n-Los cargos por el peso dimensional de los envíos se determinan de acuerdo a las normas estándar de volumen vigentes de la Asociación de Transporte Aéreo (IATA), las cuales están sujetas a cambio sin previo aviso.\\n-No se hacen entregas a Apartados de Correos, P.O Box y/o apartados aéreos. Es necesario indicar una dirección física correcta.\\n-ESTA PROHIBIDO EL ENVÍO DE:\\n-Animales \\n-Armas de fuego, municiones, explosivos\\n-Artículos ilegales\\n': 60.0, '¡Excelente! ¿ Que deseas ?': 0}\n",
            "{'content_type': 'text', 'id': 437, 'message_id': 437, 'from_user': {'id': 5791351246, 'is_bot': False, 'first_name': 'Milagros', 'username': None, 'last_name': 'Alonzo', 'language_code': 'es', 'can_join_groups': None, 'can_read_all_group_messages': None, 'supports_inline_queries': None, 'is_premium': None, 'added_to_attachment_menu': None}, 'date': 1674665902, 'chat': {'id': 5791351246, 'type': 'private', 'title': None, 'username': None, 'first_name': 'Milagros', 'last_name': 'Alonzo', 'is_forum': None, 'photo': None, 'bio': None, 'join_to_send_messages': None, 'join_by_request': None, 'has_private_forwards': None, 'has_restricted_voice_and_video_messages': None, 'description': None, 'invite_link': None, 'pinned_message': None, 'permissions': None, 'slow_mode_delay': None, 'message_auto_delete_time': None, 'has_protected_content': None, 'sticker_set_name': None, 'can_set_sticker_set': None, 'linked_chat_id': None, 'location': None, 'active_usernames': None, 'emoji_status_custom_emoji_id': None, 'has_hidden_members': None, 'has_aggressive_anti_spam_enabled': None}, 'sender_chat': None, 'forward_from': None, 'forward_from_chat': None, 'forward_from_message_id': None, 'forward_signature': None, 'forward_sender_name': None, 'forward_date': None, 'is_automatic_forward': None, 'reply_to_message': None, 'via_bot': None, 'edit_date': None, 'has_protected_content': None, 'media_group_id': None, 'author_signature': None, 'text': 'Informacion sobre los envíos', 'entities': None, 'caption_entities': None, 'audio': None, 'document': None, 'photo': None, 'sticker': None, 'video': None, 'video_note': None, 'voice': None, 'caption': None, 'contact': None, 'location': None, 'venue': None, 'animation': None, 'dice': None, 'new_chat_member': None, 'new_chat_members': None, 'left_chat_member': None, 'new_chat_title': None, 'new_chat_photo': None, 'delete_chat_photo': None, 'group_chat_created': None, 'supergroup_chat_created': None, 'channel_chat_created': None, 'migrate_to_chat_id': None, 'migrate_from_chat_id': None, 'pinned_message': None, 'invoice': None, 'successful_payment': None, 'connected_website': None, 'reply_markup': None, 'message_thread_id': None, 'is_topic_message': None, 'forum_topic_created': None, 'forum_topic_closed': None, 'forum_topic_reopened': None, 'has_media_spoiler': None, 'forum_topic_edited': None, 'general_forum_topic_hidden': None, 'general_forum_topic_unhidden': None, 'write_access_allowed': None, 'json': {'message_id': 437, 'from': {'id': 5791351246, 'is_bot': False, 'first_name': 'Milagros', 'last_name': 'Alonzo', 'language_code': 'es'}, 'chat': {'id': 5791351246, 'first_name': 'Milagros', 'last_name': 'Alonzo', 'type': 'private'}, 'date': 1674665902, 'text': 'Informacion sobre los envíos'}}\n"
          ]
        }
      ],
      "source": [
        "bot.infinity_polling()"
      ]
    },
    {
      "cell_type": "code",
      "execution_count": null,
      "metadata": {
        "id": "ySpjZQTLoD7w"
      },
      "outputs": [],
      "source": []
    },
    {
      "cell_type": "code",
      "execution_count": null,
      "metadata": {
        "id": "lFIvvsSPg4pk"
      },
      "outputs": [],
      "source": []
    }
  ],
  "metadata": {
    "colab": {
      "provenance": []
    },
    "kernelspec": {
      "display_name": "Python 3",
      "name": "python3"
    },
    "language_info": {
      "name": "python"
    }
  },
  "nbformat": 4,
  "nbformat_minor": 0
}