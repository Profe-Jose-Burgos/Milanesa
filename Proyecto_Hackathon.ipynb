{
  "cells": [
    {
      "cell_type": "code",
      "execution_count": null,
      "metadata": {
        "id": "53lX-Ht0Vpx3"
      },
      "outputs": [],
      "source": [
        "\n"
      ]
    },
    {
      "cell_type": "code",
      "execution_count": null,
      "metadata": {
        "colab": {
          "base_uri": "https://localhost:8080/"
        },
        "id": "lOlzUlWbgP3Q",
        "outputId": "7f7b11a0-29c3-4c6a-8e60-486748aa2d4c"
      },
      "outputs": [
        {
          "output_type": "stream",
          "name": "stdout",
          "text": [
            "Looking in indexes: https://pypi.org/simple, https://us-python.pkg.dev/colab-wheels/public/simple/\n",
            "Requirement already satisfied: pyTelegramBotAPI in /usr/local/lib/python3.8/dist-packages (4.9.0)\n",
            "Requirement already satisfied: requests in /usr/local/lib/python3.8/dist-packages (from pyTelegramBotAPI) (2.25.1)\n",
            "Requirement already satisfied: certifi>=2017.4.17 in /usr/local/lib/python3.8/dist-packages (from requests->pyTelegramBotAPI) (2022.12.7)\n",
            "Requirement already satisfied: idna<3,>=2.5 in /usr/local/lib/python3.8/dist-packages (from requests->pyTelegramBotAPI) (2.10)\n",
            "Requirement already satisfied: chardet<5,>=3.0.2 in /usr/local/lib/python3.8/dist-packages (from requests->pyTelegramBotAPI) (4.0.0)\n",
            "Requirement already satisfied: urllib3<1.27,>=1.21.1 in /usr/local/lib/python3.8/dist-packages (from requests->pyTelegramBotAPI) (1.24.3)\n"
          ]
        }
      ],
      "source": [
        "!pip install pyTelegramBotAPI"
      ]
    },
    {
      "cell_type": "code",
      "execution_count": null,
      "metadata": {
        "id": "mu_D_yHGfFvx"
      },
      "outputs": [],
      "source": [
        "\n",
        "envios = { \"saludo\": \"Hola soy el catbot\",\n",
        "          # avances \n",
        "          \n",
        "           \"Acerca\": \"Nuestra compañía ofrece el servicio de envíos internacionales haciendo posible que sus documentos, paquetes y mercancías lleguen a más de 220 países y territorios en los 5 continentes,\\n\"\n",
        "                    \"prestándole adicionalmente el servicio de asesoría que le permita hacer más fácil el proceso de su envío.\"\n",
        "                    \"Mediante este chat podrás saber toda la información que necesites o te permitiremos contactar alguno de nuestros agentes de la empresa.\\n\",\n",
        "          \n",
        "          \"Recibo\": \"Contamos con infraestructuras propias y sistematizadas en todos nuestros puntos de recibo, garantizando confiabilidad, seguridad y asesoría especializada.\\n\"\n",
        "                    \"Nuestro servicio de recogidas y entregas de lunes a sábado a domicilio, con frecuencia de vuelo diaria para sus exportaciones. \\n\"\n",
        "                    \"Recogemos sin costo adicional en el territorio nacional.\",\n",
        "          \n",
        "          \"Envio\": \"-El máximo valor declarado para exportaciones de tráfico postal y envíos urgentes es de USD 5.000. Para exportación tradicional máximo valor declarado debe ser menor a U$ 50.000 *para mayor valor llamar a asesoría.\\n\"\n",
        "                    \"-El máximo Peso/Volumen permitido es 70 kilogramos (por unidad de empaque).\\n\"\n",
        "                    \"-Los cargos por el peso dimensional de los envíos se determinan de acuerdo a las normas estándar de volumen vigentes de la Asociación de Transporte Aéreo (IATA), las cuales están sujetas a cambio sin previo aviso.\\n\"\n",
        "                    \"-No se hacen entregas a Apartados de Correos, P.O Box y/o apartados aéreos. Es necesario indicar una dirección física correcta.\\n\"\n",
        "                    \"ESTA PROHIBIDO EL ENVÍO DE:\\n\" \n",
        "                    \"- Animales\\n\"\n",
        "                    \"- Armas de fuego, municiones, explosivos\\n\"\n",
        "                    \"- Artículos ilegales\\n\",\n",
        "          \n",
        "          \"Nece\": \"Todos nuestros envíos necesitan estos documentos: guía aérea, rótulo o etiqueta, factura comercial, carta de responsabilidad y documentos requeridos por el país destino.\\n\",\n",
        "\n",
        "          \"Tarifa\": \"Imagen\",#aqui va una imagen \n",
        "\n",
        "          \"Cita\": \"Para mayor información contacar algunos de nuestro agentes llamando al:\\n\" \n",
        "                  \"253-0000 o 254-0000\",}\n",
        "\n",
        "                  #falta lo de Zay "
      ]
    },
    {
      "cell_type": "code",
      "source": [],
      "metadata": {
        "id": "ihKfAWGslSg8"
      },
      "execution_count": null,
      "outputs": []
    },
    {
      "cell_type": "code",
      "source": [
        "respuestas={}"
      ],
      "metadata": {
        "id": "SS6d6X29cQVh"
      },
      "execution_count": null,
      "outputs": []
    },
    {
      "cell_type": "code",
      "execution_count": null,
      "metadata": {
        "id": "pvdW_43eLd2P",
        "colab": {
          "base_uri": "https://localhost:8080/",
          "height": 135
        },
        "outputId": "971555ed-b1cb-47c3-f9e4-c845ee57017e"
      },
      "outputs": [
        {
          "output_type": "error",
          "ename": "SyntaxError",
          "evalue": "ignored",
          "traceback": [
            "\u001b[0;36m  File \u001b[0;32m\"<ipython-input-43-a2bb6e30c322>\"\u001b[0;36m, line \u001b[0;32m44\u001b[0m\n\u001b[0;31m    response(envios[\"Acerca\"],[\"esta\",\"que\",\"servicios\",\"servicio\",\"ofrece\",\"esta\",\"empresa\"],required_words=[\"estedes\",\"acerca\",])\u001b[0m\n\u001b[0m    ^\u001b[0m\n\u001b[0;31mSyntaxError\u001b[0m\u001b[0;31m:\u001b[0m invalid syntax\n"
          ]
        }
      ],
      "source": [
        "\n",
        "# Prueba de funcionalidad \n",
        "import re\n",
        "import random\n",
        "\n",
        "\n",
        "def unknown():\n",
        "    response = ['Disculpa no te estoy entendiendo', 'Puedes repetirlo otra vez']\n",
        "    return response[random.randrange(2)]\n",
        "\n",
        "def get_response(txt):\n",
        "    split_message = re.split(r'\\s|[,:;.?!-_]\\s*f',txt.lower())\n",
        "    response = check_all_message(split_message)\n",
        "    return response\n",
        "\n",
        "def message_probability(user_msn, recognized_word, single_response=False,required_word = []):\n",
        "    message_certainly = 0\n",
        "    has_required_word = True\n",
        "    print(f'user msn {user_msn}')\n",
        "    for word in user_msn:\n",
        "        if word in recognized_word:\n",
        "            message_certainly+=1\n",
        "    percentage = float(message_certainly)/float(len(recognized_word))\n",
        "    for word in required_word:\n",
        "        if word not in user_msn:\n",
        "            has_required_word = False\n",
        "            break\n",
        "    if has_required_word or single_response:\n",
        "        return float(percentage * 100)\n",
        "    else:\n",
        "        return 0\n",
        "\n",
        "\n",
        "def check_all_message(txt):\n",
        "    \n",
        "    highest_prob = {}    \n",
        "    \n",
        "    def response(bot_response,list_of_words,single_response = False,required_words = []):\n",
        "        nonlocal highest_prob\n",
        "        highest_prob[bot_response]= message_probability(txt,list_of_words,single_response,required_words)\n",
        "    \n",
        "    #arreglar error \n",
        "    v_response = ([\"hola\",\"buenos\",\"dias\"],[\"empresa\"]\n",
        "    \n",
        "    response(envios[\"Acerca\"],[\"esta\",\"que\",\"servicios\",\"servicio\",\"ofrece\",\"esta\",\"empresa\"],required_words=[\"estedes\",\"acerca\",])\n",
        "    response(envios[\"Recibo\"],[\"me\",\"puede\",\"dar\",\"informacion\",\"sobre\",\"las\",\"entregas\",\"recibo\",\"costo\"],required_words=[\"entregas\"])\n",
        "    response(envios[\"Envio\"], [\"me\",\"puede\",\"dar\",\"informacion\",\"sobre\",\"los\",\"envios\",\"costo\"],required_words=[\"emvios\"])\n",
        "    response(envios[\"Nece\"], [\"que\",\"documento\",\"necesito\",\"documentacion\",\"regla\",\"una\",\"consulta\"],required_words=[\"\",\"documentos\",])\n",
        "    response(envios[\"Envio\"], [],required_words=[\"hi\",\"hola\",])\n",
        "\n",
        "\n",
        "     #response(envios[\"saludos\"],v_response,required_words=[\"hi\",\"hola\",])\n",
        "\n",
        "\n",
        "\n",
        "    \n",
        "    best_match = max(highest_prob,key=highest_prob.get)\n",
        "    print(highest_prob)\n",
        "    #\n",
        "    return unknown() if highest_prob[best_match] < 1 else best_match\n"
      ]
    },
    {
      "cell_type": "code",
      "execution_count": null,
      "metadata": {
        "id": "nEqAHXj3gBpw"
      },
      "outputs": [],
      "source": [
        "import telebot \n",
        "token = \"5851734942:AAGfKcGcHpunyOBPhT2WBzz7JUB-Rp0YidM\" \n",
        "BOT_TOKEN = token \n",
        "bot = telebot.TeleBot(BOT_TOKEN)\n",
        "\n",
        "\n",
        "\n",
        "@bot.message_handler(commands=['start', 'help'])\n",
        "def send_welcome(message):\n",
        "\tbot.reply_to(message, \"Howdy, how are you doing?\")\n",
        "\n",
        "@bot.message_handler(func=lambda m: True)\n",
        "def echo_all(message):\n",
        "    response = get_response(message.text)\n",
        "    bot.reply_to(message, response)\n",
        "    print(message)\n",
        "   \n",
        "   \n"
      ]
    },
    {
      "cell_type": "code",
      "execution_count": null,
      "metadata": {
        "id": "lwqCvw4Eg3sU"
      },
      "outputs": [],
      "source": [
        "bot.infinity_polling()"
      ]
    },
    {
      "cell_type": "code",
      "execution_count": null,
      "metadata": {
        "id": "lFIvvsSPg4pk"
      },
      "outputs": [],
      "source": [
        "import sys\n",
        "!{sys.executable} --version"
      ]
    }
  ],
  "metadata": {
    "colab": {
      "provenance": []
    },
    "kernelspec": {
      "display_name": "Python 3",
      "name": "python3"
    },
    "language_info": {
      "name": "python"
    }
  },
  "nbformat": 4,
  "nbformat_minor": 0
}